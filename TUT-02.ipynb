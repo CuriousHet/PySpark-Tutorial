{
 "cells": [
  {
   "cell_type": "code",
   "execution_count": 5,
   "id": "7787b7e6-20d2-431d-9b85-f09a086a960a",
   "metadata": {},
   "outputs": [],
   "source": [
    "#String dates NULL"
   ]
  },
  {
   "cell_type": "code",
   "execution_count": 1,
   "id": "a33a369b-d999-4f0e-9ecb-b99277326d51",
   "metadata": {},
   "outputs": [
    {
     "data": {
      "text/html": [
       "\n",
       "            <div>\n",
       "                <p><b>SparkSession - in-memory</b></p>\n",
       "                \n",
       "        <div>\n",
       "            <p><b>SparkContext</b></p>\n",
       "\n",
       "            <p><a href=\"http://c6de5ae2f65e:4040\">Spark UI</a></p>\n",
       "\n",
       "            <dl>\n",
       "              <dt>Version</dt>\n",
       "                <dd><code>v3.3.0</code></dd>\n",
       "              <dt>Master</dt>\n",
       "                <dd><code>local[*]</code></dd>\n",
       "              <dt>AppName</dt>\n",
       "                <dd><code>Strings & Dates</code></dd>\n",
       "            </dl>\n",
       "        </div>\n",
       "        \n",
       "            </div>\n",
       "        "
      ],
      "text/plain": [
       "<pyspark.sql.session.SparkSession at 0x7f29061345b0>"
      ]
     },
     "execution_count": 1,
     "metadata": {},
     "output_type": "execute_result"
    }
   ],
   "source": [
    "from pyspark.sql import SparkSession\n",
    "\n",
    "spark = (\n",
    "    SparkSession\n",
    "    .builder\n",
    "    .appName(\"Strings & Dates\")\n",
    "    .master(\"local[*]\")\n",
    "    .getOrCreate()\n",
    ")\n",
    "\n",
    "spark"
   ]
  },
  {
   "cell_type": "code",
   "execution_count": 2,
   "id": "d7026cf7-4557-4e64-a243-5701ee4e573a",
   "metadata": {},
   "outputs": [],
   "source": [
    "from pyspark.sql.types import StringType,StructField,StructType\n",
    "\n",
    "schema = StructType([\n",
    "    StructField(\"employee_id\", StringType(), True),\n",
    "    StructField(\"department_id\", StringType(), True),\n",
    "    StructField(\"name\", StringType(), True),\n",
    "    StructField(\"age\", StringType(), True),\n",
    "    StructField(\"gender\", StringType(), True),\n",
    "    StructField(\"hire_date\", StringType(), True),\n",
    "    StructField(\"salary\",StringType(),True)\n",
    "])"
   ]
  },
  {
   "cell_type": "code",
   "execution_count": 3,
   "id": "97ecb9da-0a7b-405c-9e99-e82fdc4c1360",
   "metadata": {},
   "outputs": [],
   "source": [
    "data = [\n",
    "    (\"E001\", \"D001\", \"John Doe\", \"30\", \"Male\", \"2019-05-20\",\"200000\"),\n",
    "    (\"E002\", \"D002\", \"Jane Smith\", \"25\", \"Female\", \"2020-07-15\",\"400000\"),\n",
    "    (\"E003\", \"D001\", \"Alice Johnson\", \"35\", \"Female\", \"2018-11-03\",\"500000\"),\n",
    "    (\"E004\", \"D003\", \"Bob Williams\", \"40\", \"Male\", \"2017-09-12\",\"4500000\")\n",
    "]"
   ]
  },
  {
   "cell_type": "code",
   "execution_count": 4,
   "id": "56576ae7-94cf-4eb3-b2ee-9ac6e345fd70",
   "metadata": {},
   "outputs": [],
   "source": [
    "emp = spark.createDataFrame(data,schema)"
   ]
  },
  {
   "cell_type": "code",
   "execution_count": 5,
   "id": "64f3fdd8-3b77-4a23-b815-590774e8a94c",
   "metadata": {},
   "outputs": [
    {
     "name": "stdout",
     "output_type": "stream",
     "text": [
      "+-----------+-------------+-------------+---+------+----------+-------+\n",
      "|employee_id|department_id|         name|age|gender| hire_date| salary|\n",
      "+-----------+-------------+-------------+---+------+----------+-------+\n",
      "|       E001|         D001|     John Doe| 30|  Male|2019-05-20| 200000|\n",
      "|       E002|         D002|   Jane Smith| 25|Female|2020-07-15| 400000|\n",
      "|       E003|         D001|Alice Johnson| 35|Female|2018-11-03| 500000|\n",
      "|       E004|         D003| Bob Williams| 40|  Male|2017-09-12|4500000|\n",
      "+-----------+-------------+-------------+---+------+----------+-------+\n",
      "\n"
     ]
    }
   ],
   "source": [
    "emp.show()"
   ]
  },
  {
   "cell_type": "code",
   "execution_count": 6,
   "id": "31d9a6f5-caac-4a0e-bd34-6a0ed9b46a75",
   "metadata": {},
   "outputs": [
    {
     "name": "stdout",
     "output_type": "stream",
     "text": [
      "+-----------+-------------+-------------+---+------+----------+-------+---+\n",
      "|employee_id|department_id|         name|age|gender| hire_date| salary|gen|\n",
      "+-----------+-------------+-------------+---+------+----------+-------+---+\n",
      "|       E001|         D001|     John Doe| 30|  Male|2019-05-20| 200000|  M|\n",
      "|       E002|         D002|   Jane Smith| 25|Female|2020-07-15| 400000|  F|\n",
      "|       E003|         D001|Alice Johnson| 35|Female|2018-11-03| 500000|  F|\n",
      "|       E004|         D003| Bob Williams| 40|  Male|2017-09-12|4500000|  M|\n",
      "+-----------+-------------+-------------+---+------+----------+-------+---+\n",
      "\n"
     ]
    }
   ],
   "source": [
    "# male -> M female -> F else NULL\n",
    "from pyspark.sql.functions import when, col, expr \n",
    "emp_gender = emp.withColumn(\"gen\",when(col(\"gender\") == 'Male','M')\n",
    "                           .when(col(\"gender\") == 'Female', 'F')\n",
    "                            .otherwise(None)\n",
    "                           )\n",
    "emp_gender.show()"
   ]
  },
  {
   "cell_type": "code",
   "execution_count": 7,
   "id": "5e3558eb-7e36-46a9-8cb7-cebafa9afd38",
   "metadata": {},
   "outputs": [
    {
     "name": "stdout",
     "output_type": "stream",
     "text": [
      "+-----------+-------------+-------------+---+------+----------+-------+---+\n",
      "|employee_id|department_id|         name|age|gender| hire_date| salary|gen|\n",
      "+-----------+-------------+-------------+---+------+----------+-------+---+\n",
      "|       E001|         D001|     John Doe| 30|  Male|2019-05-20| 200000|  M|\n",
      "|       E002|         D002|   Jane Smith| 25|Female|2020-07-15| 400000|  F|\n",
      "|       E003|         D001|Alice Johnson| 35|Female|2018-11-03| 500000|  F|\n",
      "|       E004|         D003| Bob Williams| 40|  Male|2017-09-12|4500000|  M|\n",
      "+-----------+-------------+-------------+---+------+----------+-------+---+\n",
      "\n"
     ]
    }
   ],
   "source": [
    "# another way using expr.\n",
    "\n",
    "emp_gender_1 = emp.withColumn(\"gen\",expr(\"case when gender = 'Male' then 'M' when gender = 'Female' then 'F' else null end as gen\"))\n",
    "emp_gender_1.show()"
   ]
  },
  {
   "cell_type": "code",
   "execution_count": 8,
   "id": "2c1e025c-e1fe-47b7-8b61-b244ba32d0e5",
   "metadata": {},
   "outputs": [
    {
     "name": "stdout",
     "output_type": "stream",
     "text": [
      "+-----------+-------------+-------------+---+------+----------+-------+-------------+\n",
      "|employee_id|department_id|         name|age|gender| hire_date| salary|     new_name|\n",
      "+-----------+-------------+-------------+---+------+----------+-------+-------------+\n",
      "|       E001|         D001|     John Doe| 30|  Male|2019-05-20| 200000|     Gohn Doe|\n",
      "|       E002|         D002|   Jane Smith| 25|Female|2020-07-15| 400000|   Gane Smith|\n",
      "|       E003|         D001|Alice Johnson| 35|Female|2018-11-03| 500000|Alice Gohnson|\n",
      "|       E004|         D003| Bob Williams| 40|  Male|2017-09-12|4500000| Bob Williams|\n",
      "+-----------+-------------+-------------+---+------+----------+-------+-------------+\n",
      "\n"
     ]
    }
   ],
   "source": [
    "#replace \n",
    "\n",
    "from pyspark.sql.functions import regexp_replace\n",
    "\n",
    "emp_name_replace = emp.withColumn(\"new_name\",regexp_replace(col(\"name\"),\"J\",\"G\"))\n",
    "emp_name_replace.show()"
   ]
  },
  {
   "cell_type": "code",
   "execution_count": 9,
   "id": "1abc5969-c6b4-4bf8-98b7-1d8c087b1d62",
   "metadata": {},
   "outputs": [
    {
     "name": "stdout",
     "output_type": "stream",
     "text": [
      "+-----------+-------------+-------------+---+------+----------+-------+\n",
      "|employee_id|department_id|         name|age|gender| hire_date| salary|\n",
      "+-----------+-------------+-------------+---+------+----------+-------+\n",
      "|       E001|         D001|     John Doe| 30|  Male|2019-05-20| 200000|\n",
      "|       E002|         D002|   Jane Smith| 25|Female|2020-07-15| 400000|\n",
      "|       E003|         D001|Alice Johnson| 35|Female|2018-11-03| 500000|\n",
      "|       E004|         D003| Bob Williams| 40|  Male|2017-09-12|4500000|\n",
      "+-----------+-------------+-------------+---+------+----------+-------+\n",
      "\n"
     ]
    }
   ],
   "source": [
    "#convert data -> string to datetype\n",
    "from pyspark.sql.functions import to_date\n",
    "\n",
    "emp_date = emp.withColumn(\"hire_date\",to_date(col(\"hire_date\"),'yyyy-MM-dd'))\n",
    "emp_date.show()"
   ]
  },
  {
   "cell_type": "code",
   "execution_count": 10,
   "id": "f2b8f528-16bf-4d31-9a71-a6e0909eddda",
   "metadata": {},
   "outputs": [
    {
     "name": "stdout",
     "output_type": "stream",
     "text": [
      "root\n",
      " |-- employee_id: string (nullable = true)\n",
      " |-- department_id: string (nullable = true)\n",
      " |-- name: string (nullable = true)\n",
      " |-- age: string (nullable = true)\n",
      " |-- gender: string (nullable = true)\n",
      " |-- hire_date: date (nullable = true)\n",
      " |-- salary: string (nullable = true)\n",
      "\n"
     ]
    }
   ],
   "source": [
    "emp_date.printSchema()"
   ]
  },
  {
   "cell_type": "code",
   "execution_count": 11,
   "id": "0a6938de-49c3-4fd9-b182-5dd5851b2238",
   "metadata": {},
   "outputs": [
    {
     "name": "stdout",
     "output_type": "stream",
     "text": [
      "+-----------+-------------+-------------+---+------+----------+-------+----------+--------------------+\n",
      "|employee_id|department_id|         name|age|gender| hire_date| salary|  date_now|       timestamp_now|\n",
      "+-----------+-------------+-------------+---+------+----------+-------+----------+--------------------+\n",
      "|       E001|         D001|     John Doe| 30|  Male|2019-05-20| 200000|2024-10-17|2024-10-17 09:07:...|\n",
      "|       E002|         D002|   Jane Smith| 25|Female|2020-07-15| 400000|2024-10-17|2024-10-17 09:07:...|\n",
      "|       E003|         D001|Alice Johnson| 35|Female|2018-11-03| 500000|2024-10-17|2024-10-17 09:07:...|\n",
      "|       E004|         D003| Bob Williams| 40|  Male|2017-09-12|4500000|2024-10-17|2024-10-17 09:07:...|\n",
      "+-----------+-------------+-------------+---+------+----------+-------+----------+--------------------+\n",
      "\n"
     ]
    }
   ],
   "source": [
    "# add columns\n",
    "# add date,timestamp,extract year from hire_date\n",
    "from pyspark.sql.functions import current_timestamp,current_date\n",
    "\n",
    "emp_date = emp.withColumn(\"date_now\",current_date()).withColumn(\"timestamp_now\",current_timestamp())\n",
    "emp_date.show()"
   ]
  },
  {
   "cell_type": "code",
   "execution_count": 12,
   "id": "adae50d5-c8c1-42c2-a36b-a969e921f4b9",
   "metadata": {},
   "outputs": [
    {
     "name": "stdout",
     "output_type": "stream",
     "text": [
      "+-----------+-------------+-------------+---+------+----------+-------+-----------+\n",
      "|employee_id|department_id|         name|age|gender| hire_date| salary|date_string|\n",
      "+-----------+-------------+-------------+---+------+----------+-------+-----------+\n",
      "|       E001|         D001|     John Doe| 30|  Male|2019-05-20| 200000| 20/05/2019|\n",
      "|       E002|         D002|   Jane Smith| 25|Female|2020-07-15| 400000| 15/07/2020|\n",
      "|       E003|         D001|Alice Johnson| 35|Female|2018-11-03| 500000| 03/11/2018|\n",
      "|       E004|         D003| Bob Williams| 40|  Male|2017-09-12|4500000| 12/09/2017|\n",
      "+-----------+-------------+-------------+---+------+----------+-------+-----------+\n",
      "\n"
     ]
    }
   ],
   "source": [
    "# date into string and extract date information\n",
    "from pyspark.sql.functions import date_format\n",
    "\n",
    "emp_new = emp.withColumn(\"date_string\",date_format(col(\"hire_date\"),\"dd/MM/yyyy\"))\n",
    "emp_new.show()"
   ]
  },
  {
   "cell_type": "code",
   "execution_count": null,
   "id": "0cfc62d1-cd8b-440d-9c11-fcedee487bb1",
   "metadata": {},
   "outputs": [],
   "source": []
  }
 ],
 "metadata": {
  "kernelspec": {
   "display_name": "Python 3 (ipykernel)",
   "language": "python",
   "name": "python3"
  },
  "language_info": {
   "codemirror_mode": {
    "name": "ipython",
    "version": 3
   },
   "file_extension": ".py",
   "mimetype": "text/x-python",
   "name": "python",
   "nbconvert_exporter": "python",
   "pygments_lexer": "ipython3",
   "version": "3.10.6"
  }
 },
 "nbformat": 4,
 "nbformat_minor": 5
}
