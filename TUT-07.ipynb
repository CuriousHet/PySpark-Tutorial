{
 "cells": [
  {
   "cell_type": "code",
   "execution_count": 1,
   "id": "f36b5fef-4924-43d9-8482-6483a3c747c8",
   "metadata": {},
   "outputs": [
    {
     "data": {
      "text/html": [
       "\n",
       "            <div>\n",
       "                <p><b>SparkSession - in-memory</b></p>\n",
       "                \n",
       "        <div>\n",
       "            <p><b>SparkContext</b></p>\n",
       "\n",
       "            <p><a href=\"http://c6de5ae2f65e:4041\">Spark UI</a></p>\n",
       "\n",
       "            <dl>\n",
       "              <dt>Version</dt>\n",
       "                <dd><code>v3.3.0</code></dd>\n",
       "              <dt>Master</dt>\n",
       "                <dd><code>local[*]</code></dd>\n",
       "              <dt>AppName</dt>\n",
       "                <dd><code>reading complex data format</code></dd>\n",
       "            </dl>\n",
       "        </div>\n",
       "        \n",
       "            </div>\n",
       "        "
      ],
      "text/plain": [
       "<pyspark.sql.session.SparkSession at 0x7f6e1c2430d0>"
      ]
     },
     "execution_count": 1,
     "metadata": {},
     "output_type": "execute_result"
    }
   ],
   "source": [
    "from pyspark.sql import SparkSession\n",
    "\n",
    "spark = (\n",
    "    \n",
    "    SparkSession\n",
    "    .builder\n",
    "    .appName(\"reading complex data format\")\n",
    "    .master(\"local[*]\")\n",
    "    .getOrCreate()\n",
    ")\n",
    "\n",
    "spark"
   ]
  },
  {
   "cell_type": "code",
   "execution_count": 2,
   "id": "293fef87-488c-4ce9-a305-f4f4a5eeb0d0",
   "metadata": {},
   "outputs": [],
   "source": [
    "# reading parquet\n",
    "\n",
    "df_par = spark.read.format(\"parquet\").load(\"dataset/input/sales_data.parquet\")"
   ]
  },
  {
   "cell_type": "code",
   "execution_count": 3,
   "id": "ea4ba300-5257-4ed8-ae4d-d43919efab0e",
   "metadata": {},
   "outputs": [
    {
     "name": "stdout",
     "output_type": "stream",
     "text": [
      "root\n",
      " |-- transacted_at: timestamp (nullable = true)\n",
      " |-- trx_id: integer (nullable = true)\n",
      " |-- retailer_id: integer (nullable = true)\n",
      " |-- description: string (nullable = true)\n",
      " |-- amount: double (nullable = true)\n",
      " |-- city_id: integer (nullable = true)\n",
      "\n"
     ]
    }
   ],
   "source": [
    "df_par.printSchema()"
   ]
  },
  {
   "cell_type": "code",
   "execution_count": 4,
   "id": "85e33ad2-99ed-49e0-a87a-55a1fa51db41",
   "metadata": {},
   "outputs": [
    {
     "name": "stdout",
     "output_type": "stream",
     "text": [
      "+-------------------+----------+-----------+--------------------+-------+----------+\n",
      "|      transacted_at|    trx_id|retailer_id|         description| amount|   city_id|\n",
      "+-------------------+----------+-----------+--------------------+-------+----------+\n",
      "|2017-11-24 19:00:00|1995601912| 2077350195|Walgreen       11-25| 197.23| 216510442|\n",
      "|2017-11-24 19:00:00|1734117021|  644879053|unkn    ppd id: 7...|   8.58| 930259917|\n",
      "|2017-11-24 19:00:00|1734117022|  847200066|Wal-Mart  ppd id:...|1737.26|1646415505|\n",
      "|2017-11-24 19:00:00|1734117030| 1953761884|Home Depot     pp...|  384.5| 287177635|\n",
      "|2017-11-24 19:00:00|1734117089| 1898522855| Target        11-25|  66.33|1855530529|\n",
      "|2017-11-24 19:00:00|1734117117|  997626433|Sears  ppd id: 85...| 298.87| 957346984|\n",
      "|2017-11-24 19:00:00|1734117123| 1953761884|unkn   ppd id: 15...|  19.55|  45522086|\n",
      "|2017-11-24 19:00:00|1734117152| 1429095612|Ikea     arc id: ...|   9.39|1268541279|\n",
      "|2017-11-24 19:00:00|1734117153|  847200066|unkn        Kings...|2907.57|1483931123|\n",
      "|2017-11-24 19:00:00|1734117212| 1996661856|unkn    ppd id: 4...| 140.38| 336763936|\n",
      "|2017-11-24 19:00:00|1734117241|  486576507|              iTunes|2912.67|1663872965|\n",
      "|2017-11-24 19:00:00|2076947148|  847200066|Wal-Mart         ...|  62.83|1556600840|\n",
      "|2017-11-24 19:00:00|2076947147|  562903918|McDonald's    ccd...|  31.37| 930259917|\n",
      "|2017-11-24 19:00:00|2076947146|  511877722|unkn     ccd id: ...|1915.35|1698762556|\n",
      "|2017-11-24 19:00:00|2076947113| 1996661856|AutoZone  arc id:...| 1523.6|1759612211|\n",
      "|2017-11-24 19:00:00|2076947018|  902350112|DineEquity    arc...|  22.28|2130657559|\n",
      "|2017-11-24 19:00:00|2076946994| 1898522855|Target    ppd id:...|2589.93|2074005445|\n",
      "|2017-11-24 19:00:00|2076946985|  847200066|Wal-Mart    ppd i...|   42.2| 459344513|\n",
      "|2017-11-24 19:00:00|2076946960|  386167994|Wendy's  ppd id: ...|  14.62| 352952442|\n",
      "|2017-11-24 19:00:00|2076946954|  486576507|iTunes     ppd id...|  37.42| 485114748|\n",
      "+-------------------+----------+-----------+--------------------+-------+----------+\n",
      "only showing top 20 rows\n",
      "\n"
     ]
    }
   ],
   "source": [
    "df_par.show()"
   ]
  },
  {
   "cell_type": "code",
   "execution_count": 5,
   "id": "51fc1070-b920-4dd1-ad59-b50519ed4946",
   "metadata": {},
   "outputs": [
    {
     "name": "stdout",
     "output_type": "stream",
     "text": [
      "+-------------------+----------+-----------+--------------------+-------+----------+\n",
      "|      transacted_at|    trx_id|retailer_id|         description| amount|   city_id|\n",
      "+-------------------+----------+-----------+--------------------+-------+----------+\n",
      "|2017-11-24 19:00:00|1995601912| 2077350195|Walgreen       11-25| 197.23| 216510442|\n",
      "|2017-11-24 19:00:00|1734117021|  644879053|unkn    ppd id: 7...|   8.58| 930259917|\n",
      "|2017-11-24 19:00:00|1734117022|  847200066|Wal-Mart  ppd id:...|1737.26|1646415505|\n",
      "|2017-11-24 19:00:00|1734117030| 1953761884|Home Depot     pp...|  384.5| 287177635|\n",
      "|2017-11-24 19:00:00|1734117089| 1898522855| Target        11-25|  66.33|1855530529|\n",
      "|2017-11-24 19:00:00|1734117117|  997626433|Sears  ppd id: 85...| 298.87| 957346984|\n",
      "|2017-11-24 19:00:00|1734117123| 1953761884|unkn   ppd id: 15...|  19.55|  45522086|\n",
      "|2017-11-24 19:00:00|1734117152| 1429095612|Ikea     arc id: ...|   9.39|1268541279|\n",
      "|2017-11-24 19:00:00|1734117153|  847200066|unkn        Kings...|2907.57|1483931123|\n",
      "|2017-11-24 19:00:00|1734117212| 1996661856|unkn    ppd id: 4...| 140.38| 336763936|\n",
      "|2017-11-24 19:00:00|1734117241|  486576507|              iTunes|2912.67|1663872965|\n",
      "|2017-11-24 19:00:00|2076947148|  847200066|Wal-Mart         ...|  62.83|1556600840|\n",
      "|2017-11-24 19:00:00|2076947147|  562903918|McDonald's    ccd...|  31.37| 930259917|\n",
      "|2017-11-24 19:00:00|2076947146|  511877722|unkn     ccd id: ...|1915.35|1698762556|\n",
      "|2017-11-24 19:00:00|2076947113| 1996661856|AutoZone  arc id:...| 1523.6|1759612211|\n",
      "|2017-11-24 19:00:00|2076947018|  902350112|DineEquity    arc...|  22.28|2130657559|\n",
      "|2017-11-24 19:00:00|2076946994| 1898522855|Target    ppd id:...|2589.93|2074005445|\n",
      "|2017-11-24 19:00:00|2076946985|  847200066|Wal-Mart    ppd i...|   42.2| 459344513|\n",
      "|2017-11-24 19:00:00|2076946960|  386167994|Wendy's  ppd id: ...|  14.62| 352952442|\n",
      "|2017-11-24 19:00:00|2076946954|  486576507|iTunes     ppd id...|  37.42| 485114748|\n",
      "+-------------------+----------+-----------+--------------------+-------+----------+\n",
      "only showing top 20 rows\n",
      "\n"
     ]
    }
   ],
   "source": [
    "# reading orc file\n",
    "\n",
    "df_orc = spark.read.format(\"orc\").load(\"dataset/input/sales_data.orc\")\n",
    "df_orc.show()"
   ]
  },
  {
   "cell_type": "code",
   "execution_count": null,
   "id": "bc80a5e3-7062-4c0f-b0fb-b131a87fa591",
   "metadata": {},
   "outputs": [],
   "source": []
  }
 ],
 "metadata": {
  "kernelspec": {
   "display_name": "Python 3 (ipykernel)",
   "language": "python",
   "name": "python3"
  },
  "language_info": {
   "codemirror_mode": {
    "name": "ipython",
    "version": 3
   },
   "file_extension": ".py",
   "mimetype": "text/x-python",
   "name": "python",
   "nbconvert_exporter": "python",
   "pygments_lexer": "ipython3",
   "version": "3.10.6"
  }
 },
 "nbformat": 4,
 "nbformat_minor": 5
}
