{
 "cells": [
  {
   "cell_type": "code",
   "execution_count": 1,
   "id": "cd62716b-227a-4e9a-adfb-e001d995fc16",
   "metadata": {},
   "outputs": [
    {
     "data": {
      "text/html": [
       "\n",
       "            <div>\n",
       "                <p><b>SparkSession - in-memory</b></p>\n",
       "                \n",
       "        <div>\n",
       "            <p><b>SparkContext</b></p>\n",
       "\n",
       "            <p><a href=\"http://c6de5ae2f65e:4040\">Spark UI</a></p>\n",
       "\n",
       "            <dl>\n",
       "              <dt>Version</dt>\n",
       "                <dd><code>v3.3.0</code></dd>\n",
       "              <dt>Master</dt>\n",
       "                <dd><code>local[*]</code></dd>\n",
       "              <dt>AppName</dt>\n",
       "                <dd><code>Intro</code></dd>\n",
       "            </dl>\n",
       "        </div>\n",
       "        \n",
       "            </div>\n",
       "        "
      ],
      "text/plain": [
       "<pyspark.sql.session.SparkSession at 0x7ff043b76950>"
      ]
     },
     "execution_count": 1,
     "metadata": {},
     "output_type": "execute_result"
    }
   ],
   "source": [
    "from pyspark.sql import SparkSession\n",
    "\n",
    "spark = (\n",
    "    SparkSession\n",
    "    .builder\n",
    "    .appName(\"Intro\")\n",
    "    .master(\"local[*]\")\n",
    "    .getOrCreate()\n",
    ")\n",
    "\n",
    "spark"
   ]
  },
  {
   "cell_type": "code",
   "execution_count": 3,
   "id": "352a7db7-bd54-4b11-bab0-fe35a37ee461",
   "metadata": {},
   "outputs": [],
   "source": [
    "data = [[\"John\", 28], [\"Doe\", 34], [\"Alice\", 30], [\"Bob\", 26]]"
   ]
  },
  {
   "cell_type": "code",
   "execution_count": 4,
   "id": "6b76c845-20e3-4536-8d22-fdb07b7f09f4",
   "metadata": {},
   "outputs": [],
   "source": [
    "data_schema = \"Name string, Age int\""
   ]
  },
  {
   "cell_type": "code",
   "execution_count": 6,
   "id": "795c5525-37d5-4bf6-896d-d535130efe07",
   "metadata": {},
   "outputs": [
    {
     "name": "stdout",
     "output_type": "stream",
     "text": [
      "+-----+---+\n",
      "| Name|Age|\n",
      "+-----+---+\n",
      "| John| 28|\n",
      "|  Doe| 34|\n",
      "|Alice| 30|\n",
      "|  Bob| 26|\n",
      "+-----+---+\n",
      "\n"
     ]
    }
   ],
   "source": [
    "df = spark.createDataFrame(data=data,schema=data_schema)\n",
    "df.show()"
   ]
  },
  {
   "cell_type": "code",
   "execution_count": 7,
   "id": "087ec88a-8b06-4267-88d6-6079fa890526",
   "metadata": {},
   "outputs": [
    {
     "data": {
      "text/plain": [
       "20"
      ]
     },
     "execution_count": 7,
     "metadata": {},
     "output_type": "execute_result"
    }
   ],
   "source": [
    "df.rdd.getNumPartitions()"
   ]
  },
  {
   "cell_type": "code",
   "execution_count": 8,
   "id": "2d15338c-2d21-4375-9428-c28572f7996a",
   "metadata": {},
   "outputs": [],
   "source": [
    "df_30 = df.where(\"Age > 30\")"
   ]
  },
  {
   "cell_type": "code",
   "execution_count": 9,
   "id": "fe6273ae-8ef7-4b4d-a15a-bc60c9607efe",
   "metadata": {},
   "outputs": [
    {
     "name": "stdout",
     "output_type": "stream",
     "text": [
      "+----+---+\n",
      "|Name|Age|\n",
      "+----+---+\n",
      "| Doe| 34|\n",
      "+----+---+\n",
      "\n"
     ]
    }
   ],
   "source": [
    "df_30.show()"
   ]
  },
  {
   "cell_type": "code",
   "execution_count": 10,
   "id": "4742edba-1e58-48ed-8e79-36e128b33822",
   "metadata": {},
   "outputs": [
    {
     "data": {
      "text/plain": [
       "20"
      ]
     },
     "execution_count": 10,
     "metadata": {},
     "output_type": "execute_result"
    }
   ],
   "source": [
    "df_30.rdd.getNumPartitions()"
   ]
  },
  {
   "cell_type": "code",
   "execution_count": 11,
   "id": "0f23da13-8b34-4de4-8076-7937939619bb",
   "metadata": {},
   "outputs": [],
   "source": [
    "df.write.format(\"csv\").save(\"output/tut05.csv\")"
   ]
  },
  {
   "cell_type": "code",
   "execution_count": 12,
   "id": "73eb9a07-a62d-4f1e-908b-d90fdfa5fece",
   "metadata": {},
   "outputs": [
    {
     "data": {
      "text/plain": [
       "StructType([StructField('Name', StringType(), True), StructField('Age', IntegerType(), True)])"
      ]
     },
     "execution_count": 12,
     "metadata": {},
     "output_type": "execute_result"
    }
   ],
   "source": [
    "df.schema"
   ]
  },
  {
   "cell_type": "code",
   "execution_count": 15,
   "id": "aff7f8b5-a937-42b9-83f1-977162ee5309",
   "metadata": {},
   "outputs": [],
   "source": [
    "from pyspark.sql.types import IntegerType,StringType,StructField,StructType\n",
    "\n",
    "schema_string = \"Name string,Age int\"\n",
    "\n",
    "# this is how spark store schema\n",
    "schema_spark = StructType([\n",
    "    StructField(\"Name\",StringType(),True),\n",
    "    StructField(\"Age\",IntegerType(),True)\n",
    "])  "
   ]
  },
  {
   "cell_type": "code",
   "execution_count": 24,
   "id": "a38e1d29-e317-4d45-be82-4613f3b2ee3f",
   "metadata": {},
   "outputs": [],
   "source": [
    "emp = \"Name string, id int,age int, role string\""
   ]
  },
  {
   "cell_type": "code",
   "execution_count": 25,
   "id": "dbe20e33-1298-43d7-912a-05b2bc3f61d5",
   "metadata": {},
   "outputs": [],
   "source": [
    "emp_data = [\n",
    "    [\"A\",1,35,\"it\"],\n",
    "    [\"B\",2,43,\"cs+ds\"],\n",
    "    [\"C\",3,22,\"ece\"]\n",
    "]"
   ]
  },
  {
   "cell_type": "code",
   "execution_count": 26,
   "id": "7ba1e354-55cf-44c4-860a-58c52dd073e8",
   "metadata": {},
   "outputs": [],
   "source": [
    "emp_df = spark.createDataFrame(data=emp_data,schema=emp)"
   ]
  },
  {
   "cell_type": "code",
   "execution_count": 28,
   "id": "b8f13f6c-3a3a-4f87-94a1-67e03c2130e9",
   "metadata": {},
   "outputs": [
    {
     "name": "stdout",
     "output_type": "stream",
     "text": [
      "+----+---+---+-----+\n",
      "|Name| id|age| role|\n",
      "+----+---+---+-----+\n",
      "|   A|  1| 35|   it|\n",
      "|   B|  2| 43|cs+ds|\n",
      "|   C|  3| 22|  ece|\n",
      "+----+---+---+-----+\n",
      "\n"
     ]
    }
   ],
   "source": [
    "emp_df.show()"
   ]
  },
  {
   "cell_type": "code",
   "execution_count": 29,
   "id": "3cdd5c02-a553-4034-8576-4e288859b12d",
   "metadata": {},
   "outputs": [
    {
     "name": "stdout",
     "output_type": "stream",
     "text": [
      "+----+------+---+-----+\n",
      "|Name|emp_id|age| role|\n",
      "+----+------+---+-----+\n",
      "|   A|     1| 35|   it|\n",
      "|   B|     2| 43|cs+ds|\n",
      "|   C|     3| 22|  ece|\n",
      "+----+------+---+-----+\n",
      "\n"
     ]
    }
   ],
   "source": [
    "from pyspark.sql.functions import col,expr\n",
    "\n",
    "emp_new = emp_df.select(col(\"Name\"),expr(\"id as emp_id\"),emp_df.age,emp_df.role)\n",
    "emp_new.show()"
   ]
  },
  {
   "cell_type": "code",
   "execution_count": null,
   "id": "f0e65a3e-caee-44ae-8ae2-5a8bfef3ee32",
   "metadata": {},
   "outputs": [],
   "source": []
  }
 ],
 "metadata": {
  "kernelspec": {
   "display_name": "Python 3 (ipykernel)",
   "language": "python",
   "name": "python3"
  },
  "language_info": {
   "codemirror_mode": {
    "name": "ipython",
    "version": 3
   },
   "file_extension": ".py",
   "mimetype": "text/x-python",
   "name": "python",
   "nbconvert_exporter": "python",
   "pygments_lexer": "ipython3",
   "version": "3.10.6"
  }
 },
 "nbformat": 4,
 "nbformat_minor": 5
}
