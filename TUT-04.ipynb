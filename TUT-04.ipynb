{
 "cells": [
  {
   "cell_type": "code",
   "execution_count": 1,
   "id": "f5a8b046-ed6f-42d7-aa50-68a6da55836d",
   "metadata": {},
   "outputs": [
    {
     "data": {
      "text/html": [
       "\n",
       "            <div>\n",
       "                <p><b>SparkSession - in-memory</b></p>\n",
       "                \n",
       "        <div>\n",
       "            <p><b>SparkContext</b></p>\n",
       "\n",
       "            <p><a href=\"http://c6de5ae2f65e:4040\">Spark UI</a></p>\n",
       "\n",
       "            <dl>\n",
       "              <dt>Version</dt>\n",
       "                <dd><code>v3.3.0</code></dd>\n",
       "              <dt>Master</dt>\n",
       "                <dd><code>local[*]</code></dd>\n",
       "              <dt>AppName</dt>\n",
       "                <dd><code>UNIQUE & WINDOW FUNC.</code></dd>\n",
       "            </dl>\n",
       "        </div>\n",
       "        \n",
       "            </div>\n",
       "        "
      ],
      "text/plain": [
       "<pyspark.sql.session.SparkSession at 0x7f4a9c0ce110>"
      ]
     },
     "execution_count": 1,
     "metadata": {},
     "output_type": "execute_result"
    }
   ],
   "source": [
    "from pyspark.sql import SparkSession\n",
    "\n",
    "spark = (\n",
    "    \n",
    "    SparkSession\n",
    "    .builder\n",
    "    .appName(\"UNIQUE & WINDOW FUNC.\")\n",
    "    .master(\"local[*]\")\n",
    "    .getOrCreate()\n",
    ")\n",
    "spark"
   ]
  },
  {
   "cell_type": "code",
   "execution_count": 2,
   "id": "5a1b469e-43e6-43d8-9c51-71d6da7b7683",
   "metadata": {},
   "outputs": [],
   "source": [
    "from pyspark.sql.types import StructField,StructType,StringType\n",
    "\n",
    "schema = StructType([\n",
    "    StructField(\"employee_id\", StringType(), True),\n",
    "    StructField(\"department_id\", StringType(), True),\n",
    "    StructField(\"name\", StringType(), True),\n",
    "    StructField(\"age\", StringType(), True),\n",
    "    StructField(\"gender\", StringType(), True),\n",
    "    StructField(\"hire_date\", StringType(), True),\n",
    "    StructField(\"salary\",StringType(),True)\n",
    "])"
   ]
  },
  {
   "cell_type": "code",
   "execution_count": 3,
   "id": "474168ec-deb2-4e44-95dd-891ce3ff2199",
   "metadata": {},
   "outputs": [],
   "source": [
    "data1 = [\n",
    "    {\"employee_id\": \"E001\", \"department_id\": \"D001\", \"name\": \"Alice\", \"age\": \"30\", \"gender\": \"F\", \"hire_date\": \"2020-01-15\", \"salary\": \"70000\"},\n",
    "    {\"employee_id\": \"E002\", \"department_id\": \"D002\", \"name\": \"Bob\", \"age\": \"32\", \"gender\": \"M\", \"hire_date\": \"2019-03-22\", \"salary\": \"75000\"},\n",
    "    {\"employee_id\": \"E003\", \"department_id\": \"D003\", \"name\": \"Charlie\", \"age\": \"29\", \"gender\": \"M\", \"hire_date\": \"2021-07-18\", \"salary\": \"68000\"},\n",
    "    {\"employee_id\": \"E004\", \"department_id\": \"D001\", \"name\": \"Diana\", \"age\": \"28\", \"gender\": \"F\", \"hire_date\": \"2020-10-12\", \"salary\": \"72000\"},\n",
    "    {\"employee_id\": \"E005\", \"department_id\": \"D004\", \"name\": \"Eve\", \"age\": \"26\", \"gender\": \"F\", \"hire_date\": \"2018-06-30\", \"salary\": \"65000\"},\n",
    "    {\"employee_id\": \"E006\", \"department_id\": \"D002\", \"name\": \"Frank\", \"age\": \"35\", \"gender\": \"M\", \"hire_date\": \"2017-09-05\", \"salary\": \"80000\"},\n",
    "    {\"employee_id\": \"E007\", \"department_id\": \"D003\", \"name\": \"Grace\", \"age\": \"31\", \"gender\": \"F\", \"hire_date\": \"2021-01-01\", \"salary\": \"71000\"},\n",
    "    {\"employee_id\": \"E008\", \"department_id\": \"D001\", \"name\": \"Hank\", \"age\": \"33\", \"gender\": \"M\", \"hire_date\": \"2019-11-25\", \"salary\": \"77000\"},\n",
    "    {\"employee_id\": \"E009\", \"department_id\": \"D002\", \"name\": \"Ivy\", \"age\": \"27\", \"gender\": \"F\", \"hire_date\": \"2020-04-20\", \"salary\": \"67000\"},\n",
    "    {\"employee_id\": \"E010\", \"department_id\": \"D004\", \"name\": \"Jack\", \"age\": \"34\", \"gender\": \"M\", \"hire_date\": \"2016-05-14\", \"salary\": \"78000\"},\n",
    "    {\"employee_id\": \"E011\", \"department_id\": \"D003\", \"name\": \"Kelly\", \"age\": \"29\", \"gender\": \"F\", \"hire_date\": \"2018-08-19\", \"salary\": \"69000\"},\n",
    "    {\"employee_id\": \"E012\", \"department_id\": \"D001\", \"name\": \"Liam\", \"age\": \"32\", \"gender\": \"M\", \"hire_date\": \"2017-12-10\", \"salary\": \"75000\"},\n",
    "    {\"employee_id\": \"E013\", \"department_id\": \"D002\", \"name\": \"Maya\", \"age\": \"30\", \"gender\": \"F\", \"hire_date\": \"2021-03-07\", \"salary\": \"72000\"},\n",
    "    {\"employee_id\": \"E014\", \"department_id\": \"D004\", \"name\": \"Nick\", \"age\": \"36\", \"gender\": \"M\", \"hire_date\": \"2015-10-21\", \"salary\": \"81000\"},\n",
    "    {\"employee_id\": \"E015\", \"department_id\": \"D003\", \"name\": \"Olivia\", \"age\": \"28\", \"gender\": \"F\", \"hire_date\": \"2020-09-14\", \"salary\": \"73000\"},\n",
    "]\n",
    "\n",
    "data2 = [\n",
    "    {\"employee_id\": \"E016\", \"department_id\": \"D005\", \"name\": \"Paul\", \"age\": \"45\", \"gender\": \"M\", \"hire_date\": \"2010-12-11\", \"salary\": \"90000\"},\n",
    "    {\"employee_id\": \"E017\", \"department_id\": \"D006\", \"name\": \"Quinn\", \"age\": \"50\", \"gender\": \"F\", \"hire_date\": \"2008-04-29\", \"salary\": \"95000\"},\n",
    "    {\"employee_id\": \"E018\", \"department_id\": \"D007\", \"name\": \"Rita\", \"age\": \"41\", \"gender\": \"F\", \"hire_date\": \"2013-06-15\", \"salary\": \"87000\"},\n",
    "    {\"employee_id\": \"E019\", \"department_id\": \"D005\", \"name\": \"Steve\", \"age\": \"37\", \"gender\": \"M\", \"hire_date\": \"2016-11-20\", \"salary\": \"85000\"},\n",
    "    {\"employee_id\": \"E020\", \"department_id\": \"D006\", \"name\": \"Tina\", \"age\": \"39\", \"gender\": \"F\", \"hire_date\": \"2015-03-01\", \"salary\": \"82000\"},\n",
    "    {\"employee_id\": \"E021\", \"department_id\": \"D007\", \"name\": \"Uma\", \"age\": \"42\", \"gender\": \"F\", \"hire_date\": \"2014-02-18\", \"salary\": \"83000\"},\n",
    "    {\"employee_id\": \"E022\", \"department_id\": \"D005\", \"name\": \"Victor\", \"age\": \"46\", \"gender\": \"M\", \"hire_date\": \"2009-09-09\", \"salary\": \"89000\"},\n",
    "    {\"employee_id\": \"E023\", \"department_id\": \"D006\", \"name\": \"Wendy\", \"age\": \"44\", \"gender\": \"F\", \"hire_date\": \"2012-05-25\", \"salary\": \"87000\"},\n",
    "    {\"employee_id\": \"E024\", \"department_id\": \"D007\", \"name\": \"Xander\", \"age\": \"47\", \"gender\": \"M\", \"hire_date\": \"2011-10-31\", \"salary\": \"91000\"},\n",
    "    {\"employee_id\": \"E025\", \"department_id\": \"D005\", \"name\": \"Yara\", \"age\": \"43\", \"gender\": \"F\", \"hire_date\": \"2013-08-04\", \"salary\": \"86000\"},\n",
    "    {\"employee_id\": \"E026\", \"department_id\": \"D006\", \"name\": \"Zane\", \"age\": \"49\", \"gender\": \"M\", \"hire_date\": \"2007-07-22\", \"salary\": \"95000\"},\n",
    "    {\"employee_id\": \"E027\", \"department_id\": \"D007\", \"name\": \"Amy\", \"age\": \"38\", \"gender\": \"F\", \"hire_date\": \"2015-01-09\", \"salary\": \"83000\"},\n",
    "    {\"employee_id\": \"E028\", \"department_id\": \"D005\", \"name\": \"Ben\", \"age\": \"40\", \"gender\": \"M\", \"hire_date\": \"2014-12-27\", \"salary\": \"84000\"},\n",
    "    {\"employee_id\": \"E029\", \"department_id\": \"D006\", \"name\": \"Cara\", \"age\": \"41\", \"gender\": \"F\", \"hire_date\": \"2016-06-30\", \"salary\": \"85000\"},\n",
    "    {\"employee_id\": \"E030\", \"department_id\": \"D007\", \"name\": \"David\", \"age\": \"50\", \"gender\": \"M\", \"hire_date\": \"2008-11-02\", \"salary\": \"92000\"},\n",
    "]\n",
    "\n",
    "emp1 = spark.createDataFrame(data1, schema)\n",
    "emp2 = spark.createDataFrame(data2, schema)"
   ]
  },
  {
   "cell_type": "code",
   "execution_count": 4,
   "id": "52c5c37d-bb5d-4dc1-8702-0e2e3e7a267b",
   "metadata": {},
   "outputs": [
    {
     "name": "stdout",
     "output_type": "stream",
     "text": [
      "+-----------+-------------+-------+---+------+----------+------+\n",
      "|employee_id|department_id|   name|age|gender| hire_date|salary|\n",
      "+-----------+-------------+-------+---+------+----------+------+\n",
      "|       E001|         D001|  Alice| 30|     F|2020-01-15| 70000|\n",
      "|       E002|         D002|    Bob| 32|     M|2019-03-22| 75000|\n",
      "|       E003|         D003|Charlie| 29|     M|2021-07-18| 68000|\n",
      "|       E004|         D001|  Diana| 28|     F|2020-10-12| 72000|\n",
      "|       E005|         D004|    Eve| 26|     F|2018-06-30| 65000|\n",
      "|       E006|         D002|  Frank| 35|     M|2017-09-05| 80000|\n",
      "|       E007|         D003|  Grace| 31|     F|2021-01-01| 71000|\n",
      "|       E008|         D001|   Hank| 33|     M|2019-11-25| 77000|\n",
      "|       E009|         D002|    Ivy| 27|     F|2020-04-20| 67000|\n",
      "|       E010|         D004|   Jack| 34|     M|2016-05-14| 78000|\n",
      "|       E011|         D003|  Kelly| 29|     F|2018-08-19| 69000|\n",
      "|       E012|         D001|   Liam| 32|     M|2017-12-10| 75000|\n",
      "|       E013|         D002|   Maya| 30|     F|2021-03-07| 72000|\n",
      "|       E014|         D004|   Nick| 36|     M|2015-10-21| 81000|\n",
      "|       E015|         D003| Olivia| 28|     F|2020-09-14| 73000|\n",
      "+-----------+-------------+-------+---+------+----------+------+\n",
      "\n"
     ]
    }
   ],
   "source": [
    "emp = emp1.distinct()\n",
    "emp.show()"
   ]
  },
  {
   "cell_type": "code",
   "execution_count": 5,
   "id": "a7d0f2a3-2135-4b19-8e21-bf9069ba2680",
   "metadata": {},
   "outputs": [],
   "source": [
    "# distinct department_id\n",
    "emp_dept_id = emp.select(\"department_id\").distinct()"
   ]
  },
  {
   "cell_type": "code",
   "execution_count": 6,
   "id": "905a4d13-3fc3-4293-910b-dfe370c5faf8",
   "metadata": {},
   "outputs": [
    {
     "name": "stdout",
     "output_type": "stream",
     "text": [
      "+-------------+\n",
      "|department_id|\n",
      "+-------------+\n",
      "|         D001|\n",
      "|         D002|\n",
      "|         D003|\n",
      "|         D004|\n",
      "+-------------+\n",
      "\n"
     ]
    }
   ],
   "source": [
    "emp_dept_id.show()"
   ]
  },
  {
   "cell_type": "code",
   "execution_count": 7,
   "id": "69279e9a-f06a-4d52-a175-3964d20321be",
   "metadata": {},
   "outputs": [
    {
     "name": "stdout",
     "output_type": "stream",
     "text": [
      "+-----------+-------------+-------+---+------+----------+------+----------+\n",
      "|employee_id|department_id|   name|age|gender| hire_date|salary|max_salary|\n",
      "+-----------+-------------+-------+---+------+----------+------+----------+\n",
      "|       E008|         D001|   Hank| 33|     M|2019-11-25| 77000|     77000|\n",
      "|       E012|         D001|   Liam| 32|     M|2017-12-10| 75000|     77000|\n",
      "|       E004|         D001|  Diana| 28|     F|2020-10-12| 72000|     77000|\n",
      "|       E001|         D001|  Alice| 30|     F|2020-01-15| 70000|     77000|\n",
      "|       E006|         D002|  Frank| 35|     M|2017-09-05| 80000|     80000|\n",
      "|       E002|         D002|    Bob| 32|     M|2019-03-22| 75000|     80000|\n",
      "|       E013|         D002|   Maya| 30|     F|2021-03-07| 72000|     80000|\n",
      "|       E009|         D002|    Ivy| 27|     F|2020-04-20| 67000|     80000|\n",
      "|       E015|         D003| Olivia| 28|     F|2020-09-14| 73000|     73000|\n",
      "|       E007|         D003|  Grace| 31|     F|2021-01-01| 71000|     73000|\n",
      "|       E011|         D003|  Kelly| 29|     F|2018-08-19| 69000|     73000|\n",
      "|       E003|         D003|Charlie| 29|     M|2021-07-18| 68000|     73000|\n",
      "|       E014|         D004|   Nick| 36|     M|2015-10-21| 81000|     81000|\n",
      "|       E010|         D004|   Jack| 34|     M|2016-05-14| 78000|     81000|\n",
      "|       E005|         D004|    Eve| 26|     F|2018-06-30| 65000|     81000|\n",
      "+-----------+-------------+-------+---+------+----------+------+----------+\n",
      "\n"
     ]
    }
   ],
   "source": [
    "# window function\n",
    "# select * , max(salary) over(partition by department_id order by salary desc) as max_salary from emp_unique\n",
    "\n",
    "from pyspark.sql.window import Window\n",
    "from pyspark.sql.functions import max,col,desc\n",
    "\n",
    "window_spec = Window.partitionBy(col(\"department_id\")).orderBy(col(\"salary\").desc())\n",
    "max_func = max(col(\"salary\")).over(window_spec)\n",
    "\n",
    "emp1 = emp.withColumn(\"max_salary\",max_func)\n",
    "emp1.show()"
   ]
  },
  {
   "cell_type": "code",
   "execution_count": 8,
   "id": "00eaa8d3-78d1-4f15-81ab-a79bc854afdd",
   "metadata": {},
   "outputs": [
    {
     "name": "stdout",
     "output_type": "stream",
     "text": [
      "+-----------+-------------+-----+---+------+----------+------+---+\n",
      "|employee_id|department_id| name|age|gender| hire_date|salary| rn|\n",
      "+-----------+-------------+-----+---+------+----------+------+---+\n",
      "|       E012|         D001| Liam| 32|     M|2017-12-10| 75000|  2|\n",
      "|       E002|         D002|  Bob| 32|     M|2019-03-22| 75000|  2|\n",
      "|       E007|         D003|Grace| 31|     F|2021-01-01| 71000|  2|\n",
      "|       E010|         D004| Jack| 34|     M|2016-05-14| 78000|  2|\n",
      "+-----------+-------------+-----+---+------+----------+------+---+\n",
      "\n"
     ]
    }
   ],
   "source": [
    "# 2nd highest salary of each department\n",
    "# select *, row_number() over(partition by department_id orde by salary desc) as rn from emp_unique where rn = 2\n",
    "\n",
    "from pyspark.sql.functions import row_number\n",
    "window_spec = Window.partitionBy(col(\"department_id\")).orderBy(col(\"salary\").desc())\n",
    "rn = row_number().over(window_spec)\n",
    "\n",
    "emp2 = emp.withColumn(\"rn\",rn).where(\"rn = 2\")\n",
    "emp2.show()"
   ]
  },
  {
   "cell_type": "code",
   "execution_count": 10,
   "id": "7ed62dfd-c0bc-498a-9804-b03ebbe539c8",
   "metadata": {},
   "outputs": [
    {
     "name": "stdout",
     "output_type": "stream",
     "text": [
      "+-----------+-------------+-----+---+------+----------+------+---+\n",
      "|employee_id|department_id| name|age|gender| hire_date|salary| rn|\n",
      "+-----------+-------------+-----+---+------+----------+------+---+\n",
      "|       E012|         D001| Liam| 32|     M|2017-12-10| 75000|  2|\n",
      "|       E002|         D002|  Bob| 32|     M|2019-03-22| 75000|  2|\n",
      "|       E007|         D003|Grace| 31|     F|2021-01-01| 71000|  2|\n",
      "|       E010|         D004| Jack| 34|     M|2016-05-14| 78000|  2|\n",
      "+-----------+-------------+-----+---+------+----------+------+---+\n",
      "\n"
     ]
    }
   ],
   "source": [
    "# above ques using expr\n",
    "from pyspark.sql.functions import expr\n",
    "\n",
    "emp3 = emp.withColumn(\"rn\",expr(\"row_number() over(partition by department_id order by salary desc)\")).where(\"rn=2\")\n",
    "emp3.show()"
   ]
  },
  {
   "cell_type": "code",
   "execution_count": null,
   "id": "6ebb10bd-8372-4848-9f95-bb566dc1f3c1",
   "metadata": {},
   "outputs": [],
   "source": []
  }
 ],
 "metadata": {
  "kernelspec": {
   "display_name": "Python 3 (ipykernel)",
   "language": "python",
   "name": "python3"
  },
  "language_info": {
   "codemirror_mode": {
    "name": "ipython",
    "version": 3
   },
   "file_extension": ".py",
   "mimetype": "text/x-python",
   "name": "python",
   "nbconvert_exporter": "python",
   "pygments_lexer": "ipython3",
   "version": "3.10.6"
  }
 },
 "nbformat": 4,
 "nbformat_minor": 5
}
