{
 "cells": [
  {
   "cell_type": "code",
   "execution_count": 3,
   "id": "25761ee0-51ec-45e7-b807-f23ef7f14510",
   "metadata": {},
   "outputs": [
    {
     "data": {
      "text/html": [
       "\n",
       "            <div>\n",
       "                <p><b>SparkSession - in-memory</b></p>\n",
       "                \n",
       "        <div>\n",
       "            <p><b>SparkContext</b></p>\n",
       "\n",
       "            <p><a href=\"http://c6de5ae2f65e:4041\">Spark UI</a></p>\n",
       "\n",
       "            <dl>\n",
       "              <dt>Version</dt>\n",
       "                <dd><code>v3.3.0</code></dd>\n",
       "              <dt>Master</dt>\n",
       "                <dd><code>local[*]</code></dd>\n",
       "              <dt>AppName</dt>\n",
       "                <dd><code>Sort Union and Aggregation</code></dd>\n",
       "            </dl>\n",
       "        </div>\n",
       "        \n",
       "            </div>\n",
       "        "
      ],
      "text/plain": [
       "<pyspark.sql.session.SparkSession at 0x7f9d08fcf430>"
      ]
     },
     "execution_count": 3,
     "metadata": {},
     "output_type": "execute_result"
    }
   ],
   "source": [
    "from pyspark.sql import SparkSession\n",
    "\n",
    "spark = (\n",
    "    \n",
    "    SparkSession\n",
    "    .builder\n",
    "    .appName(\"Sort Union and Aggregation\")\n",
    "    .master(\"local[*]\")\n",
    "    .getOrCreate()\n",
    ")\n",
    "\n",
    "spark"
   ]
  },
  {
   "cell_type": "code",
   "execution_count": 24,
   "id": "f672f983-dca4-4d33-a3b6-6b5bf691f76b",
   "metadata": {},
   "outputs": [],
   "source": [
    "from pyspark.sql.types import StructField,StructType,StringType\n",
    "\n",
    "schema = StructType([\n",
    "    StructField(\"employee_id\", StringType(), True),\n",
    "    StructField(\"department_id\", StringType(), True),\n",
    "    StructField(\"name\", StringType(), True),\n",
    "    StructField(\"age\", StringType(), True),\n",
    "    StructField(\"gender\", StringType(), True),\n",
    "    StructField(\"hire_date\", StringType(), True),\n",
    "    StructField(\"salary\",StringType(),True)\n",
    "])"
   ]
  },
  {
   "cell_type": "code",
   "execution_count": 25,
   "id": "541daaa5-f7a4-4059-a60b-5de9950c1aa3",
   "metadata": {},
   "outputs": [],
   "source": [
    "data1 = [\n",
    "    {\"employee_id\": \"E001\", \"department_id\": \"D001\", \"name\": \"Alice\", \"age\": \"30\", \"gender\": \"F\", \"hire_date\": \"2020-01-15\", \"salary\": \"70000\"},\n",
    "    {\"employee_id\": \"E002\", \"department_id\": \"D002\", \"name\": \"Bob\", \"age\": \"32\", \"gender\": \"M\", \"hire_date\": \"2019-03-22\", \"salary\": \"75000\"},\n",
    "    {\"employee_id\": \"E003\", \"department_id\": \"D003\", \"name\": \"Charlie\", \"age\": \"29\", \"gender\": \"M\", \"hire_date\": \"2021-07-18\", \"salary\": \"68000\"},\n",
    "    {\"employee_id\": \"E004\", \"department_id\": \"D001\", \"name\": \"Diana\", \"age\": \"28\", \"gender\": \"F\", \"hire_date\": \"2020-10-12\", \"salary\": \"72000\"},\n",
    "    {\"employee_id\": \"E005\", \"department_id\": \"D004\", \"name\": \"Eve\", \"age\": \"26\", \"gender\": \"F\", \"hire_date\": \"2018-06-30\", \"salary\": \"65000\"},\n",
    "    {\"employee_id\": \"E006\", \"department_id\": \"D002\", \"name\": \"Frank\", \"age\": \"35\", \"gender\": \"M\", \"hire_date\": \"2017-09-05\", \"salary\": \"80000\"},\n",
    "    {\"employee_id\": \"E007\", \"department_id\": \"D003\", \"name\": \"Grace\", \"age\": \"31\", \"gender\": \"F\", \"hire_date\": \"2021-01-01\", \"salary\": \"71000\"},\n",
    "    {\"employee_id\": \"E008\", \"department_id\": \"D001\", \"name\": \"Hank\", \"age\": \"33\", \"gender\": \"M\", \"hire_date\": \"2019-11-25\", \"salary\": \"77000\"},\n",
    "    {\"employee_id\": \"E009\", \"department_id\": \"D002\", \"name\": \"Ivy\", \"age\": \"27\", \"gender\": \"F\", \"hire_date\": \"2020-04-20\", \"salary\": \"67000\"},\n",
    "    {\"employee_id\": \"E010\", \"department_id\": \"D004\", \"name\": \"Jack\", \"age\": \"34\", \"gender\": \"M\", \"hire_date\": \"2016-05-14\", \"salary\": \"78000\"},\n",
    "    {\"employee_id\": \"E011\", \"department_id\": \"D003\", \"name\": \"Kelly\", \"age\": \"29\", \"gender\": \"F\", \"hire_date\": \"2018-08-19\", \"salary\": \"69000\"},\n",
    "    {\"employee_id\": \"E012\", \"department_id\": \"D001\", \"name\": \"Liam\", \"age\": \"32\", \"gender\": \"M\", \"hire_date\": \"2017-12-10\", \"salary\": \"75000\"},\n",
    "    {\"employee_id\": \"E013\", \"department_id\": \"D002\", \"name\": \"Maya\", \"age\": \"30\", \"gender\": \"F\", \"hire_date\": \"2021-03-07\", \"salary\": \"72000\"},\n",
    "    {\"employee_id\": \"E014\", \"department_id\": \"D004\", \"name\": \"Nick\", \"age\": \"36\", \"gender\": \"M\", \"hire_date\": \"2015-10-21\", \"salary\": \"81000\"},\n",
    "    {\"employee_id\": \"E015\", \"department_id\": \"D003\", \"name\": \"Olivia\", \"age\": \"28\", \"gender\": \"F\", \"hire_date\": \"2020-09-14\", \"salary\": \"73000\"},\n",
    "]\n",
    "\n",
    "data2 = [\n",
    "    {\"employee_id\": \"E016\", \"department_id\": \"D005\", \"name\": \"Paul\", \"age\": \"45\", \"gender\": \"M\", \"hire_date\": \"2010-12-11\", \"salary\": \"90000\"},\n",
    "    {\"employee_id\": \"E017\", \"department_id\": \"D006\", \"name\": \"Quinn\", \"age\": \"50\", \"gender\": \"F\", \"hire_date\": \"2008-04-29\", \"salary\": \"95000\"},\n",
    "    {\"employee_id\": \"E018\", \"department_id\": \"D007\", \"name\": \"Rita\", \"age\": \"41\", \"gender\": \"F\", \"hire_date\": \"2013-06-15\", \"salary\": \"87000\"},\n",
    "    {\"employee_id\": \"E019\", \"department_id\": \"D005\", \"name\": \"Steve\", \"age\": \"37\", \"gender\": \"M\", \"hire_date\": \"2016-11-20\", \"salary\": \"85000\"},\n",
    "    {\"employee_id\": \"E020\", \"department_id\": \"D006\", \"name\": \"Tina\", \"age\": \"39\", \"gender\": \"F\", \"hire_date\": \"2015-03-01\", \"salary\": \"82000\"},\n",
    "    {\"employee_id\": \"E021\", \"department_id\": \"D007\", \"name\": \"Uma\", \"age\": \"42\", \"gender\": \"F\", \"hire_date\": \"2014-02-18\", \"salary\": \"83000\"},\n",
    "    {\"employee_id\": \"E022\", \"department_id\": \"D005\", \"name\": \"Victor\", \"age\": \"46\", \"gender\": \"M\", \"hire_date\": \"2009-09-09\", \"salary\": \"89000\"},\n",
    "    {\"employee_id\": \"E023\", \"department_id\": \"D006\", \"name\": \"Wendy\", \"age\": \"44\", \"gender\": \"F\", \"hire_date\": \"2012-05-25\", \"salary\": \"87000\"},\n",
    "    {\"employee_id\": \"E024\", \"department_id\": \"D007\", \"name\": \"Xander\", \"age\": \"47\", \"gender\": \"M\", \"hire_date\": \"2011-10-31\", \"salary\": \"91000\"},\n",
    "    {\"employee_id\": \"E025\", \"department_id\": \"D005\", \"name\": \"Yara\", \"age\": \"43\", \"gender\": \"F\", \"hire_date\": \"2013-08-04\", \"salary\": \"86000\"},\n",
    "    {\"employee_id\": \"E026\", \"department_id\": \"D006\", \"name\": \"Zane\", \"age\": \"49\", \"gender\": \"M\", \"hire_date\": \"2007-07-22\", \"salary\": \"95000\"},\n",
    "    {\"employee_id\": \"E027\", \"department_id\": \"D007\", \"name\": \"Amy\", \"age\": \"38\", \"gender\": \"F\", \"hire_date\": \"2015-01-09\", \"salary\": \"83000\"},\n",
    "    {\"employee_id\": \"E028\", \"department_id\": \"D005\", \"name\": \"Ben\", \"age\": \"40\", \"gender\": \"M\", \"hire_date\": \"2014-12-27\", \"salary\": \"84000\"},\n",
    "    {\"employee_id\": \"E029\", \"department_id\": \"D006\", \"name\": \"Cara\", \"age\": \"41\", \"gender\": \"F\", \"hire_date\": \"2016-06-30\", \"salary\": \"85000\"},\n",
    "    {\"employee_id\": \"E030\", \"department_id\": \"D007\", \"name\": \"David\", \"age\": \"50\", \"gender\": \"M\", \"hire_date\": \"2008-11-02\", \"salary\": \"92000\"},\n",
    "]\n",
    "\n",
    "emp1 = spark.createDataFrame(data1, schema)\n",
    "emp2 = spark.createDataFrame(data2, schema)"
   ]
  },
  {
   "cell_type": "code",
   "execution_count": 26,
   "id": "b4ed2295-9a66-4030-b222-971add1856aa",
   "metadata": {},
   "outputs": [
    {
     "name": "stdout",
     "output_type": "stream",
     "text": [
      "+-----------+-------------+-------+---+------+----------+------+\n",
      "|employee_id|department_id|   name|age|gender| hire_date|salary|\n",
      "+-----------+-------------+-------+---+------+----------+------+\n",
      "|       E001|         D001|  Alice| 30|     F|2020-01-15| 70000|\n",
      "|       E002|         D002|    Bob| 32|     M|2019-03-22| 75000|\n",
      "|       E003|         D003|Charlie| 29|     M|2021-07-18| 68000|\n",
      "|       E004|         D001|  Diana| 28|     F|2020-10-12| 72000|\n",
      "|       E005|         D004|    Eve| 26|     F|2018-06-30| 65000|\n",
      "|       E006|         D002|  Frank| 35|     M|2017-09-05| 80000|\n",
      "|       E007|         D003|  Grace| 31|     F|2021-01-01| 71000|\n",
      "|       E008|         D001|   Hank| 33|     M|2019-11-25| 77000|\n",
      "|       E009|         D002|    Ivy| 27|     F|2020-04-20| 67000|\n",
      "|       E010|         D004|   Jack| 34|     M|2016-05-14| 78000|\n",
      "|       E011|         D003|  Kelly| 29|     F|2018-08-19| 69000|\n",
      "|       E012|         D001|   Liam| 32|     M|2017-12-10| 75000|\n",
      "|       E013|         D002|   Maya| 30|     F|2021-03-07| 72000|\n",
      "|       E014|         D004|   Nick| 36|     M|2015-10-21| 81000|\n",
      "|       E015|         D003| Olivia| 28|     F|2020-09-14| 73000|\n",
      "+-----------+-------------+-------+---+------+----------+------+\n",
      "\n"
     ]
    }
   ],
   "source": [
    "emp1.show()"
   ]
  },
  {
   "cell_type": "code",
   "execution_count": 27,
   "id": "e54f4641-1394-40ad-8465-972c2199bfa3",
   "metadata": {},
   "outputs": [
    {
     "name": "stdout",
     "output_type": "stream",
     "text": [
      "+-----------+-------------+------+---+------+----------+------+\n",
      "|employee_id|department_id|  name|age|gender| hire_date|salary|\n",
      "+-----------+-------------+------+---+------+----------+------+\n",
      "|       E016|         D005|  Paul| 45|     M|2010-12-11| 90000|\n",
      "|       E017|         D006| Quinn| 50|     F|2008-04-29| 95000|\n",
      "|       E018|         D007|  Rita| 41|     F|2013-06-15| 87000|\n",
      "|       E019|         D005| Steve| 37|     M|2016-11-20| 85000|\n",
      "|       E020|         D006|  Tina| 39|     F|2015-03-01| 82000|\n",
      "|       E021|         D007|   Uma| 42|     F|2014-02-18| 83000|\n",
      "|       E022|         D005|Victor| 46|     M|2009-09-09| 89000|\n",
      "|       E023|         D006| Wendy| 44|     F|2012-05-25| 87000|\n",
      "|       E024|         D007|Xander| 47|     M|2011-10-31| 91000|\n",
      "|       E025|         D005|  Yara| 43|     F|2013-08-04| 86000|\n",
      "|       E026|         D006|  Zane| 49|     M|2007-07-22| 95000|\n",
      "|       E027|         D007|   Amy| 38|     F|2015-01-09| 83000|\n",
      "|       E028|         D005|   Ben| 40|     M|2014-12-27| 84000|\n",
      "|       E029|         D006|  Cara| 41|     F|2016-06-30| 85000|\n",
      "|       E030|         D007| David| 50|     M|2008-11-02| 92000|\n",
      "+-----------+-------------+------+---+------+----------+------+\n",
      "\n"
     ]
    }
   ],
   "source": [
    "emp2.show()"
   ]
  },
  {
   "cell_type": "code",
   "execution_count": 28,
   "id": "d1916049-e7e5-4b7d-8b35-5d4eb9944841",
   "metadata": {},
   "outputs": [
    {
     "name": "stdout",
     "output_type": "stream",
     "text": [
      "+-----------+-------------+-------+---+------+----------+------+\n",
      "|employee_id|department_id|   name|age|gender| hire_date|salary|\n",
      "+-----------+-------------+-------+---+------+----------+------+\n",
      "|       E001|         D001|  Alice| 30|     F|2020-01-15| 70000|\n",
      "|       E002|         D002|    Bob| 32|     M|2019-03-22| 75000|\n",
      "|       E003|         D003|Charlie| 29|     M|2021-07-18| 68000|\n",
      "|       E004|         D001|  Diana| 28|     F|2020-10-12| 72000|\n",
      "|       E005|         D004|    Eve| 26|     F|2018-06-30| 65000|\n",
      "|       E006|         D002|  Frank| 35|     M|2017-09-05| 80000|\n",
      "|       E007|         D003|  Grace| 31|     F|2021-01-01| 71000|\n",
      "|       E008|         D001|   Hank| 33|     M|2019-11-25| 77000|\n",
      "|       E009|         D002|    Ivy| 27|     F|2020-04-20| 67000|\n",
      "|       E010|         D004|   Jack| 34|     M|2016-05-14| 78000|\n",
      "|       E011|         D003|  Kelly| 29|     F|2018-08-19| 69000|\n",
      "|       E012|         D001|   Liam| 32|     M|2017-12-10| 75000|\n",
      "|       E013|         D002|   Maya| 30|     F|2021-03-07| 72000|\n",
      "|       E014|         D004|   Nick| 36|     M|2015-10-21| 81000|\n",
      "|       E015|         D003| Olivia| 28|     F|2020-09-14| 73000|\n",
      "|       E016|         D005|   Paul| 45|     M|2010-12-11| 90000|\n",
      "|       E017|         D006|  Quinn| 50|     F|2008-04-29| 95000|\n",
      "|       E018|         D007|   Rita| 41|     F|2013-06-15| 87000|\n",
      "|       E019|         D005|  Steve| 37|     M|2016-11-20| 85000|\n",
      "|       E020|         D006|   Tina| 39|     F|2015-03-01| 82000|\n",
      "+-----------+-------------+-------+---+------+----------+------+\n",
      "only showing top 20 rows\n",
      "\n"
     ]
    }
   ],
   "source": [
    "#union - unique\n",
    "emp = emp1.union(emp2)\n",
    "emp.show()"
   ]
  },
  {
   "cell_type": "code",
   "execution_count": 29,
   "id": "2902f6be-fc71-4175-995b-d38e0db3ffab",
   "metadata": {},
   "outputs": [
    {
     "name": "stdout",
     "output_type": "stream",
     "text": [
      "+-----------+-------------+-------+---+------+----------+------+\n",
      "|employee_id|department_id|   name|age|gender| hire_date|salary|\n",
      "+-----------+-------------+-------+---+------+----------+------+\n",
      "|       E001|         D001|  Alice| 30|     F|2020-01-15| 70000|\n",
      "|       E002|         D002|    Bob| 32|     M|2019-03-22| 75000|\n",
      "|       E003|         D003|Charlie| 29|     M|2021-07-18| 68000|\n",
      "|       E004|         D001|  Diana| 28|     F|2020-10-12| 72000|\n",
      "|       E005|         D004|    Eve| 26|     F|2018-06-30| 65000|\n",
      "|       E006|         D002|  Frank| 35|     M|2017-09-05| 80000|\n",
      "|       E007|         D003|  Grace| 31|     F|2021-01-01| 71000|\n",
      "|       E008|         D001|   Hank| 33|     M|2019-11-25| 77000|\n",
      "|       E009|         D002|    Ivy| 27|     F|2020-04-20| 67000|\n",
      "|       E010|         D004|   Jack| 34|     M|2016-05-14| 78000|\n",
      "|       E011|         D003|  Kelly| 29|     F|2018-08-19| 69000|\n",
      "|       E012|         D001|   Liam| 32|     M|2017-12-10| 75000|\n",
      "|       E013|         D002|   Maya| 30|     F|2021-03-07| 72000|\n",
      "|       E014|         D004|   Nick| 36|     M|2015-10-21| 81000|\n",
      "|       E015|         D003| Olivia| 28|     F|2020-09-14| 73000|\n",
      "|       E016|         D005|   Paul| 45|     M|2010-12-11| 90000|\n",
      "|       E017|         D006|  Quinn| 50|     F|2008-04-29| 95000|\n",
      "|       E018|         D007|   Rita| 41|     F|2013-06-15| 87000|\n",
      "|       E019|         D005|  Steve| 37|     M|2016-11-20| 85000|\n",
      "|       E020|         D006|   Tina| 39|     F|2015-03-01| 82000|\n",
      "+-----------+-------------+-------+---+------+----------+------+\n",
      "only showing top 20 rows\n",
      "\n"
     ]
    }
   ],
   "source": [
    "# unionall -- adds duplicate if ther are any repeating values\n",
    "\n",
    "emp = emp1.unionAll(emp2)\n",
    "emp.show()"
   ]
  },
  {
   "cell_type": "code",
   "execution_count": 30,
   "id": "8190aa35-ef6a-4d36-b0e9-f1528a9670c3",
   "metadata": {},
   "outputs": [
    {
     "name": "stdout",
     "output_type": "stream",
     "text": [
      "+-----------+-------------+------+---+------+----------+------+\n",
      "|employee_id|department_id|  name|age|gender| hire_date|salary|\n",
      "+-----------+-------------+------+---+------+----------+------+\n",
      "|       E030|         D007| David| 50|     M|2008-11-02| 92000|\n",
      "|       E017|         D006| Quinn| 50|     F|2008-04-29| 95000|\n",
      "|       E026|         D006|  Zane| 49|     M|2007-07-22| 95000|\n",
      "|       E024|         D007|Xander| 47|     M|2011-10-31| 91000|\n",
      "|       E022|         D005|Victor| 46|     M|2009-09-09| 89000|\n",
      "|       E016|         D005|  Paul| 45|     M|2010-12-11| 90000|\n",
      "|       E023|         D006| Wendy| 44|     F|2012-05-25| 87000|\n",
      "|       E025|         D005|  Yara| 43|     F|2013-08-04| 86000|\n",
      "|       E021|         D007|   Uma| 42|     F|2014-02-18| 83000|\n",
      "|       E029|         D006|  Cara| 41|     F|2016-06-30| 85000|\n",
      "|       E018|         D007|  Rita| 41|     F|2013-06-15| 87000|\n",
      "|       E028|         D005|   Ben| 40|     M|2014-12-27| 84000|\n",
      "|       E020|         D006|  Tina| 39|     F|2015-03-01| 82000|\n",
      "|       E027|         D007|   Amy| 38|     F|2015-01-09| 83000|\n",
      "|       E019|         D005| Steve| 37|     M|2016-11-20| 85000|\n",
      "|       E014|         D004|  Nick| 36|     M|2015-10-21| 81000|\n",
      "|       E006|         D002| Frank| 35|     M|2017-09-05| 80000|\n",
      "|       E010|         D004|  Jack| 34|     M|2016-05-14| 78000|\n",
      "|       E008|         D001|  Hank| 33|     M|2019-11-25| 77000|\n",
      "|       E012|         D001|  Liam| 32|     M|2017-12-10| 75000|\n",
      "+-----------+-------------+------+---+------+----------+------+\n",
      "only showing top 20 rows\n",
      "\n"
     ]
    }
   ],
   "source": [
    "# sorting\n",
    "from pyspark.sql.functions import desc,col,asc\n",
    "\n",
    "emp_desc = emp.orderBy(col(\"age\").desc())\n",
    "emp_desc.show()"
   ]
  },
  {
   "cell_type": "code",
   "execution_count": 31,
   "id": "3a701609-dfc0-434a-a5f3-76756c5ebbc7",
   "metadata": {},
   "outputs": [
    {
     "name": "stdout",
     "output_type": "stream",
     "text": [
      "+-------------+----------------+\n",
      "|department_id|total_dept_count|\n",
      "+-------------+----------------+\n",
      "|         D001|               4|\n",
      "|         D002|               4|\n",
      "|         D003|               4|\n",
      "|         D004|               3|\n",
      "|         D005|               5|\n",
      "|         D006|               5|\n",
      "|         D007|               5|\n",
      "+-------------+----------------+\n",
      "\n"
     ]
    }
   ],
   "source": [
    "# aggregation\n",
    "# select dept_id, count(employee_id) as total_dept_count from emp groupby dept_id\n",
    "\n",
    "from pyspark.sql.functions import count\n",
    "\n",
    "emp_count = emp.groupBy(\"department_id\").agg(count(\"employee_id\").alias(\"total_dept_count\"))\n",
    "emp_count.show()"
   ]
  },
  {
   "cell_type": "code",
   "execution_count": 35,
   "id": "806dba64-416b-4c84-8657-ed466495ac1b",
   "metadata": {},
   "outputs": [
    {
     "name": "stdout",
     "output_type": "stream",
     "text": [
      "+-------------+-----------------+\n",
      "|department_id|total_dept_salary|\n",
      "+-------------+-----------------+\n",
      "|         D001|         294000.0|\n",
      "|         D002|         294000.0|\n",
      "|         D003|         281000.0|\n",
      "|         D004|         224000.0|\n",
      "|         D005|         434000.0|\n",
      "|         D006|         444000.0|\n",
      "|         D007|         436000.0|\n",
      "+-------------+-----------------+\n",
      "\n"
     ]
    }
   ],
   "source": [
    "# select dept_id, sum(salary) as total_dept_salary from emp group by dept_id\n",
    "from pyspark.sql.functions import sum,avg\n",
    "\n",
    "emp_sum = emp.groupBy(\"department_id\").agg(sum(\"salary\").alias(\"total_dept_salary\"))\n",
    "emp_sum.show()"
   ]
  },
  {
   "cell_type": "code",
   "execution_count": 37,
   "id": "bc8cd3db-11ff-4ffc-b880-b1dded811774",
   "metadata": {},
   "outputs": [
    {
     "name": "stdout",
     "output_type": "stream",
     "text": [
      "+-------------+-----------------+\n",
      "|department_id|  avg_dept_salary|\n",
      "+-------------+-----------------+\n",
      "|         D001|          73500.0|\n",
      "|         D002|          73500.0|\n",
      "|         D003|          70250.0|\n",
      "|         D004|74666.66666666667|\n",
      "|         D005|          86800.0|\n",
      "|         D006|          88800.0|\n",
      "|         D007|          87200.0|\n",
      "+-------------+-----------------+\n",
      "\n"
     ]
    }
   ],
   "source": [
    "emp_avg = emp.groupBy(\"department_id\").agg(avg(\"salary\").alias(\"avg_dept_salary\"))\n",
    "emp_avg.show()"
   ]
  },
  {
   "cell_type": "code",
   "execution_count": 39,
   "id": "279fabca-b9d8-436f-9c40-df10bb0ede78",
   "metadata": {},
   "outputs": [
    {
     "name": "stdout",
     "output_type": "stream",
     "text": [
      "+-------------+---------------+\n",
      "|department_id|avg_dept_salary|\n",
      "+-------------+---------------+\n",
      "|         D005|        86800.0|\n",
      "|         D006|        88800.0|\n",
      "|         D007|        87200.0|\n",
      "+-------------+---------------+\n",
      "\n"
     ]
    }
   ],
   "source": [
    "# agg with having clause\n",
    "# select dept_id, avg(salary) as avg_dept_salary from emp group by dept_id having avg(salary) > 50000\n",
    "\n",
    "emp_avg_filtered = emp.groupBy(\"department_id\").agg(avg(\"salary\").alias(\"avg_dept_salary\")).where(\"avg_dept_salary > 75000\")\n",
    "emp_avg_filtered.show()"
   ]
  },
  {
   "cell_type": "code",
   "execution_count": null,
   "id": "d15ff163-7ff0-4e69-889f-54ef66f00f1a",
   "metadata": {},
   "outputs": [],
   "source": [
    "# incase column sequence is different \n",
    "# --> use df = df1.unionByName(df2)"
   ]
  }
 ],
 "metadata": {
  "kernelspec": {
   "display_name": "Python 3 (ipykernel)",
   "language": "python",
   "name": "python3"
  },
  "language_info": {
   "codemirror_mode": {
    "name": "ipython",
    "version": 3
   },
   "file_extension": ".py",
   "mimetype": "text/x-python",
   "name": "python",
   "nbconvert_exporter": "python",
   "pygments_lexer": "ipython3",
   "version": "3.10.6"
  }
 },
 "nbformat": 4,
 "nbformat_minor": 5
}
